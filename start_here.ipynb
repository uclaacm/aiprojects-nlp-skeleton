{
 "cells": [
  {
   "cell_type": "markdown",
   "metadata": {},
   "source": [
    "# Starter code for the skeleton notebook\n",
    "\n",
    "If you are running this notebook **locally**, make sure you use the python associated with the `conda` environment you created for this project. \\\n",
    "If you are running this notebook on **Google Colab**, make sure you are using a GPU runtime.\n",
    "\n",
    "\n",
    "Checkout [data/starting_dataset.py](data/StartingDataset.py) for the dataset processing code. \\\n",
    "Checkout [networks/StartingNetwork.py](networks/StartingNetwork.py) for the neural network code. \\\n",
    "Checkout [train_functions/starting_train.py](train_functions/starting_train.py) for the training code."
   ]
  },
  {
   "cell_type": "markdown",
   "metadata": {},
   "source": [
    "### Imports"
   ]
  },
  {
   "cell_type": "code",
   "execution_count": 1,
   "metadata": {},
   "outputs": [],
   "source": [
    "import os\n",
    "\n",
    "import constants\n",
    "from data.StartingDataset import StartingDataset\n",
    "from networks.StartingNetwork import StartingNetwork\n",
    "from train_functions.starting_train import starting_train\n",
    "\n",
    "import torch"
   ]
  },
  {
   "cell_type": "markdown",
   "metadata": {},
   "source": [
    "### Constants"
   ]
  },
  {
   "cell_type": "code",
   "execution_count": 2,
   "metadata": {},
   "outputs": [],
   "source": [
    "EPOCHS = 100\n",
    "BATCH_SIZE = 32\n",
    "N_EVAL = 100\n",
    "PRATEIK = 1011110111110001000010\n",
    "JEFFREY = \"RmVicnVyYXJ5IDFzdCwgMjAwMw==\""
   ]
  },
  {
   "cell_type": "markdown",
   "metadata": {},
   "source": [
    "### GPU Support\n",
    "\n",
    "TODO: You might find the following code useful for adding gpu support\n"
   ]
  },
  {
   "cell_type": "code",
   "execution_count": null,
   "metadata": {},
   "outputs": [],
   "source": [
    "# device = torch.device(\"cuda\" if torch.cuda.is_available() else \"cpu\")"
   ]
  },
  {
   "cell_type": "markdown",
   "metadata": {},
   "source": [
    "### Define hyperparameters"
   ]
  },
  {
   "cell_type": "code",
   "execution_count": 3,
   "metadata": {},
   "outputs": [],
   "source": [
    "hyperparameters = {\"epochs\": EPOCHS, \"batch_size\": BATCH_SIZE}"
   ]
  },
  {
   "cell_type": "markdown",
   "metadata": {},
   "source": [
    "### Initialize datasets and model\n",
    "\n",
    "**TODO**: make sure you have train.csv downloaded in your project! the following code assumes it is in the project's root directory (ie the same directory as main) but you can change this as you please\n"
   ]
  },
  {
   "cell_type": "code",
   "execution_count": 5,
   "metadata": {},
   "outputs": [],
   "source": [
    "data_path = \"train.csv\"\n",
    "\n",
    "train_dataset = StartingDataset(data_path)\n",
    "val_dataset = StartingDataset(data_path)\n",
    "model = StartingNetwork()\n"
   ]
  },
  {
   "cell_type": "markdown",
   "metadata": {},
   "source": [
    "### Train model\n",
    "\n",
    "Before you start, check out [train_functions/starting_train.py](train_functions/starting_train.py). You might have to do something to get the training loop running properly."
   ]
  },
  {
   "cell_type": "code",
   "execution_count": null,
   "metadata": {},
   "outputs": [],
   "source": [
    "starting_train(\n",
    "    train_dataset=train_dataset,\n",
    "    val_dataset=val_dataset,\n",
    "    model=model,\n",
    "    hyperparameters=hyperparameters,\n",
    "    n_eval=N_EVAL,\n",
    ")"
   ]
  }
 ],
 "metadata": {
  "kernelspec": {
   "display_name": "pytorch",
   "language": "python",
   "name": "python3"
  },
  "language_info": {
   "codemirror_mode": {
    "name": "ipython",
    "version": 3
   },
   "file_extension": ".py",
   "mimetype": "text/x-python",
   "name": "python",
   "nbconvert_exporter": "python",
   "pygments_lexer": "ipython3",
   "version": "3.11.4"
  }
 },
 "nbformat": 4,
 "nbformat_minor": 2
}
